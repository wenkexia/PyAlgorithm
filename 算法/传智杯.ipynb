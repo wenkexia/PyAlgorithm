{
 "cells": [
  {
   "cell_type": "markdown",
   "metadata": {},
   "source": [
    "## A"
   ]
  },
  {
   "cell_type": "code",
   "execution_count": 18,
   "metadata": {},
   "outputs": [
    {
     "name": "stdout",
     "output_type": "stream",
     "text": [
      "-123\n"
     ]
    }
   ],
   "source": [
    "def isa(a,b):\n",
    "\n",
    "    if b>0:\n",
    "        print(abs(a))\n",
    "    else:\n",
    "        print(-abs(a)) \n",
    "a,b =map(int,input().split())\n",
    "\n",
    "isa(a,b)"
   ]
  },
  {
   "cell_type": "markdown",
   "metadata": {},
   "source": [
    "## b"
   ]
  },
  {
   "cell_type": "code",
   "execution_count": 15,
   "metadata": {},
   "outputs": [
    {
     "name": "stdout",
     "output_type": "stream",
     "text": [
      "[0, 1, 0, 0]\n"
     ]
    }
   ],
   "source": [
    "m,n = map(int,input().split(\" \"))\n",
    "a = list(map(int,input().split(\" \")))\n",
    "b = list(map(int,input().split(\" \")))\n",
    "\n",
    "i = 2\n",
    "m= m-1\n",
    "n = n-1\n",
    "res = []\n",
    "j=0\n",
    "while m>=0 and n>=0: \n",
    "    j,k =divmod(a[m]+a[n]+j,2)\n",
    "    res.append(k)\n",
    "    m-=1\n",
    "    n-=1\n",
    "    \n",
    "print(res)"
   ]
  },
  {
   "cell_type": "code",
   "execution_count": 23,
   "metadata": {},
   "outputs": [
    {
     "data": {
      "text/plain": [
       "(1, 3)"
      ]
     },
     "execution_count": 23,
     "metadata": {},
     "output_type": "execute_result"
    }
   ],
   "source": [
    "divmod(8,5)"
   ]
  },
  {
   "cell_type": "code",
   "execution_count": 9,
   "metadata": {},
   "outputs": [
    {
     "data": {
      "text/plain": [
       "(1, 1)"
      ]
     },
     "execution_count": 9,
     "metadata": {},
     "output_type": "execute_result"
    }
   ],
   "source": [
    "5 4 \n",
    "3 3 2 1 1\n",
    "3 2 2 1\n"
   ]
  },
  {
   "cell_type": "code",
   "execution_count": null,
   "metadata": {},
   "outputs": [],
   "source": []
  }
 ],
 "metadata": {
  "kernelspec": {
   "display_name": "Python 3.9.13 ('base')",
   "language": "python",
   "name": "python3"
  },
  "language_info": {
   "codemirror_mode": {
    "name": "ipython",
    "version": 3
   },
   "file_extension": ".py",
   "mimetype": "text/x-python",
   "name": "python",
   "nbconvert_exporter": "python",
   "pygments_lexer": "ipython3",
   "version": "3.9.13 (main, Aug 25 2022, 23:51:50) [MSC v.1916 64 bit (AMD64)]"
  },
  "orig_nbformat": 4,
  "vscode": {
   "interpreter": {
    "hash": "e12ddd010df99af3d2a0699e046c9713c7b64c28af730a366b6574ca5c24de30"
   }
  }
 },
 "nbformat": 4,
 "nbformat_minor": 2
}
