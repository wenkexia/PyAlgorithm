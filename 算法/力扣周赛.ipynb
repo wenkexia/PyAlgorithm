{
 "cells": [
  {
   "cell_type": "markdown",
   "metadata": {},
   "source": [
    "## 双周赛"
   ]
  },
  {
   "attachments": {},
   "cell_type": "markdown",
   "metadata": {},
   "source": [
    "### 93场"
   ]
  },
  {
   "cell_type": "code",
   "execution_count": 36,
   "metadata": {},
   "outputs": [
    {
     "data": {
      "text/plain": [
       "'3'"
      ]
     },
     "execution_count": 36,
     "metadata": {},
     "output_type": "execute_result"
    }
   ],
   "source": [
    "a ='12313'\n",
    "max(a)"
   ]
  },
  {
   "cell_type": "code",
   "execution_count": 39,
   "metadata": {},
   "outputs": [
    {
     "data": {
      "text/plain": [
       "5"
      ]
     },
     "execution_count": 39,
     "metadata": {},
     "output_type": "execute_result"
    }
   ],
   "source": [
    "strs = [\"alic3\",\"bob\",\"3\",\"4\",\"00000\"]\n",
    "# 有字母就是数组长度\n",
    "# - \"3\" 只包含数字，所以值为 3 。\n",
    "# - \"4\" 只包含数字，所以值为 4 。\n",
    "# - \"00000\" 只包含数字，所以值为 0 。\n",
    "\n",
    "def isNum(arr):\n",
    "    for i in arr:\n",
    "        # 是字母返回false\n",
    "        if ord(i)>=97:\n",
    "            return False\n",
    "    return True\n",
    "res = 0\n",
    "for i in strs:\n",
    "    if not isNum(i):\n",
    "        res = res if res>len(i)  else len(i) \n",
    "\n",
    "    else:\n",
    "        res = res if res>int(i)  else int(i)\n",
    "  \n",
    "  \n",
    "res\n"
   ]
  },
  {
   "cell_type": "code",
   "execution_count": null,
   "metadata": {},
   "outputs": [],
   "source": [
    "res = 0\n",
    "for i in strs:\n",
    "    a =0\n",
    "    for j in i:\n",
    "        if ord(str(j))>=97:\n",
    "           a=len(j)\n",
    "           break\n",
    "        else:\n",
    "            a = a if a>int(j) else j\n",
    "    \n",
    "    res = res if res>a else a\n",
    "res"
   ]
  },
  {
   "attachments": {},
   "cell_type": "markdown",
   "metadata": {},
   "source": [
    "## 周赛"
   ]
  },
  {
   "attachments": {},
   "cell_type": "markdown",
   "metadata": {},
   "source": [
    "### 323场周赛"
   ]
  },
  {
   "cell_type": "code",
   "execution_count": 41,
   "metadata": {},
   "outputs": [
    {
     "data": {
      "text/plain": [
       "100"
      ]
     },
     "execution_count": 41,
     "metadata": {},
     "output_type": "execute_result"
    }
   ],
   "source": [
    "max([43,68,8,100,84])"
   ]
  },
  {
   "cell_type": "code",
   "execution_count": 51,
   "metadata": {},
   "outputs": [
    {
     "data": {
      "text/plain": [
       "342"
      ]
     },
     "execution_count": 51,
     "metadata": {},
     "output_type": "execute_result"
    }
   ],
   "source": [
    "grid =[[35,52,74,92,25],[65,77,1,73,32],[43,68,8,100,84],[80,14,88,42,53],[98,69,64,40,60]]\n",
    "res = 0\n",
    "m= 0\n",
    "tmp = 0\n",
    "ans = 0\n",
    "while len(grid[-1])!=0:\n",
    "    for i in grid:      \n",
    "        m =max(i)\n",
    "        # print(m)\n",
    "        i.remove(m)\n",
    "        # print(i)\n",
    "        res = m if m>=tmp else tmp       \n",
    "        tmp = m\n",
    "    # print(res)\n",
    "    ans +=res\n",
    "\n",
    "ans   \n",
    "\n"
   ]
  }
 ],
 "metadata": {
  "kernelspec": {
   "display_name": "base",
   "language": "python",
   "name": "python3"
  },
  "language_info": {
   "codemirror_mode": {
    "name": "ipython",
    "version": 3
   },
   "file_extension": ".py",
   "mimetype": "text/x-python",
   "name": "python",
   "nbconvert_exporter": "python",
   "pygments_lexer": "ipython3",
   "version": "3.9.13"
  },
  "orig_nbformat": 4,
  "vscode": {
   "interpreter": {
    "hash": "e12ddd010df99af3d2a0699e046c9713c7b64c28af730a366b6574ca5c24de30"
   }
  }
 },
 "nbformat": 4,
 "nbformat_minor": 2
}
