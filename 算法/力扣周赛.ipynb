{
 "cells": [
  {
   "attachments": {},
   "cell_type": "markdown",
   "metadata": {},
   "source": [
    "# 双周赛"
   ]
  },
  {
   "attachments": {},
   "cell_type": "markdown",
   "metadata": {},
   "source": [
    "## 93场"
   ]
  },
  {
   "cell_type": "code",
   "execution_count": 36,
   "metadata": {},
   "outputs": [
    {
     "data": {
      "text/plain": [
       "'3'"
      ]
     },
     "execution_count": 36,
     "metadata": {},
     "output_type": "execute_result"
    }
   ],
   "source": [
    "a ='12313'\n",
    "max(a)"
   ]
  },
  {
   "cell_type": "code",
   "execution_count": 39,
   "metadata": {},
   "outputs": [
    {
     "data": {
      "text/plain": [
       "5"
      ]
     },
     "execution_count": 39,
     "metadata": {},
     "output_type": "execute_result"
    }
   ],
   "source": [
    "strs = [\"alic3\",\"bob\",\"3\",\"4\",\"00000\"]\n",
    "# 有字母就是数组长度\n",
    "# - \"3\" 只包含数字，所以值为 3 。\n",
    "# - \"4\" 只包含数字，所以值为 4 。\n",
    "# - \"00000\" 只包含数字，所以值为 0 。\n",
    "\n",
    "def isNum(arr):\n",
    "    for i in arr:\n",
    "        # 是字母返回false\n",
    "        if ord(i)>=97:\n",
    "            return False\n",
    "    return True\n",
    "res = 0\n",
    "for i in strs:\n",
    "    if not isNum(i):\n",
    "        res = res if res>len(i)  else len(i) \n",
    "\n",
    "    else:\n",
    "        res = res if res>int(i)  else int(i)\n",
    "  \n",
    "  \n",
    "res\n"
   ]
  },
  {
   "cell_type": "code",
   "execution_count": null,
   "metadata": {},
   "outputs": [],
   "source": [
    "res = 0\n",
    "for i in strs:\n",
    "    a =0\n",
    "    for j in i:\n",
    "        if ord(str(j))>=97:\n",
    "           a=len(j)\n",
    "           break\n",
    "        else:\n",
    "            a = a if a>int(j) else j\n",
    "    \n",
    "    res = res if res>a else a\n",
    "res"
   ]
  },
  {
   "attachments": {},
   "cell_type": "markdown",
   "metadata": {},
   "source": [
    "# 周赛"
   ]
  },
  {
   "attachments": {},
   "cell_type": "markdown",
   "metadata": {},
   "source": [
    "## 323场周赛\n",
    "https://leetcode.cn/contest/weekly-contest-323/"
   ]
  },
  {
   "attachments": {},
   "cell_type": "markdown",
   "metadata": {},
   "source": [
    "### 2500. 删除每行中的最大值\n",
    "给你一个 m x n 大小的矩阵 grid ，由若干正整数组成。\n",
    "\n",
    "执行下述操作，直到 grid 变为空矩阵：\n",
    "\n",
    "从每一行删除值最大的元素。如果存在多个这样的值，删除其中任何一个。\n",
    "将删除元素中的最大值与答案相加。\n",
    "注意 每执行一次操作，矩阵中列的数据就会减 1 。\n",
    "\n",
    "返回执行上述操作后的答案。\n",
    "\n",
    "输入：grid = [[1,2,4],[3,3,1]]\n",
    "输出：8\n",
    "解释：上图展示在每一步中需要移除的值。\n",
    "- 在第一步操作中，从第一行删除 4 ，从第二行删除 3（注意，有两个单元格中的值为 3 ，我们可以删除任一）。在答案上加 4 。\n",
    "- 在第二步操作中，从第一行删除 2 ，从第二行删除 3 。在答案上加 3 。\n",
    "- 在第三步操作中，从第一行删除 1 ，从第二行删除 1 。在答案上加 1 。\n",
    "最终，答案 = 4 + 3 + 1 = 8 。"
   ]
  },
  {
   "cell_type": "code",
   "execution_count": 51,
   "metadata": {},
   "outputs": [
    {
     "data": {
      "text/plain": [
       "342"
      ]
     },
     "execution_count": 51,
     "metadata": {},
     "output_type": "execute_result"
    }
   ],
   "source": [
    "grid =[[35,52,74,92,25],[65,77,1,73,32],[43,68,8,100,84],[80,14,88,42,53],[98,69,64,40,60]]\n",
    "res = 0\n",
    "m= 0\n",
    "tmp = 0\n",
    "ans = 0\n",
    "while len(grid[-1])!=0:\n",
    "    for i in grid:      \n",
    "        m =max(i)\n",
    "        # print(m)\n",
    "        i.remove(m)\n",
    "        # print(i)\n",
    "        res = m if m>=tmp else tmp       \n",
    "        tmp = m\n",
    "    # print(res)\n",
    "    ans +=res\n",
    "\n",
    "ans   \n",
    "\n"
   ]
  },
  {
   "cell_type": "code",
   "execution_count": null,
   "metadata": {},
   "outputs": [],
   "source": [
    "class Solution:\n",
    "    def deleteGreatestValue(self, grid: List[List[int]]) -> int:\n",
    "        for row in grid:\n",
    "            # 先排序\n",
    "            row.sort(reverse=True)\n",
    "            # *号的作用将调用时提供的所有值，放在一个元组里。\n",
    "        return sum(max(col) for col in zip(*grid))\n",
    "\n"
   ]
  },
  {
   "cell_type": "code",
   "execution_count": 12,
   "metadata": {},
   "outputs": [
    {
     "name": "stdout",
     "output_type": "stream",
     "text": [
      "(92, 77, 100, 88, 98)\n",
      "(74, 73, 84, 80, 69)\n",
      "(52, 65, 68, 53, 64)\n",
      "(35, 32, 43, 42, 60)\n",
      "(25, 1, 8, 14, 40)\n"
     ]
    }
   ],
   "source": [
    "\n",
    "grid =[[35,52,74,92,25],[65,77,1,73,32],[43,68,8,100,84],[80,14,88,42,53],[98,69,64,40,60]]\n",
    "for row in grid:\n",
    "    # 先排序\n",
    "    row.sort(reverse=True)\n",
    "for col in zip(*grid):\n",
    "    print(col)\n"
   ]
  },
  {
   "cell_type": "code",
   "execution_count": 13,
   "metadata": {},
   "outputs": [
    {
     "name": "stdout",
     "output_type": "stream",
     "text": [
      "('1', '4')\n",
      "('2', '5')\n",
      "('3', '6')\n"
     ]
    }
   ],
   "source": [
    "w1='123'\n",
    "w2='456789'\n",
    "#以元素最少的对象为基准，只会运算到第三位\n",
    "for s in zip(w1,w2):  \n",
    "    print(s)"
   ]
  },
  {
   "attachments": {},
   "cell_type": "markdown",
   "metadata": {},
   "source": [
    "### 2501. 数组中最长的方波\n",
    "\n",
    "给你一个整数数组 nums 。如果 nums 的子序列满足下述条件，则认为该子序列是一个 方波 ：\n",
    "\n",
    "子序列的长度至少为 2 ，并且\n",
    "将子序列从小到大排序 之后 ，除第一个元素外，每个元素都是前一个元素的 平方 。\n",
    "返回 nums 中 最长方波 的长度，如果不存在 方波 则返回 -1 。\n",
    "\n",
    "子序列 也是一个数组，可以由另一个数组删除一些或不删除元素且不改变剩余元素的顺序得到。"
   ]
  },
  {
   "cell_type": "code",
   "execution_count": 1,
   "metadata": {},
   "outputs": [],
   "source": [
    "from typing import List\n",
    "class Solution:\n",
    "    '''\n",
    "    description: 暴力枚举(两层)\n",
    "    event: \n",
    "    param {*} self\n",
    "    param {List} nums\n",
    "    return {*}\n",
    "    '''    \n",
    "    def longestSquareStreak(self, nums: List[int]) -> int:\n",
    "     \n",
    "        ans, s = 0, set(nums)\n",
    "        for x in s:\n",
    "            cnt = 0 # 第一层循环时，初始化计数器\n",
    "            while x in s:\n",
    "                cnt += 1\n",
    "                x *= x\n",
    "            ans = max(ans, cnt)\n",
    "        return ans if ans > 1 else -1\n",
    "a= Solution()\n",
    "a.longestSquareStreak([4,3,6,16,8,2])\n",
    "\n"
   ]
  }
 ],
 "metadata": {
  "kernelspec": {
   "display_name": "base",
   "language": "python",
   "name": "python3"
  },
  "language_info": {
   "codemirror_mode": {
    "name": "ipython",
    "version": 3
   },
   "file_extension": ".py",
   "mimetype": "text/x-python",
   "name": "python",
   "nbconvert_exporter": "python",
   "pygments_lexer": "ipython3",
   "version": "3.9.13 (main, Aug 25 2022, 23:51:50) [MSC v.1916 64 bit (AMD64)]"
  },
  "orig_nbformat": 4,
  "vscode": {
   "interpreter": {
    "hash": "e12ddd010df99af3d2a0699e046c9713c7b64c28af730a366b6574ca5c24de30"
   }
  }
 },
 "nbformat": 4,
 "nbformat_minor": 2
}
