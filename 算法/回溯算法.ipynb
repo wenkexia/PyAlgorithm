{
 "cells": [
  {
   "cell_type": "markdown",
   "metadata": {},
   "source": [
    "## 回溯算法框架\n",
    "解决一个回溯问题，实际上就是一个决策树的遍历过程，站在回溯树的一个节点上，你只需要思考 3 个问题：\n",
    "\n",
    "1、路径：也就是已经做出的选择。\n",
    "\n",
    "2、选择列表：也就是你当前可以做的选择。\n",
    "\n",
    "3、结束条件：也就是到达决策树底层，无法再做选择的条件。\n",
    "\n",
    "在递归之前做出选择，在递归之后撤销刚才的选择，就能正确得到每个节点的选择列表和路径。"
   ]
  },
  {
   "cell_type": "code",
   "execution_count": null,
   "metadata": {},
   "outputs": [],
   "source": [
    "result = []\n",
    "def backtrack(路径, 选择列表):\n",
    "    if 满足结束条件:\n",
    "        result.add(路径)\n",
    "        return\n",
    "    \n",
    "    for 选择 in 选择列表:\n",
    "        做选择\n",
    "        backtrack(路径, 选择列表)\n",
    "        撤销选择\n",
    "        \n",
    "        \n"
   ]
  },
  {
   "cell_type": "markdown",
   "metadata": {},
   "source": [
    "## 46.全排列"
   ]
  },
  {
   "cell_type": "code",
   "execution_count": 5,
   "metadata": {},
   "outputs": [
    {
     "data": {
      "text/plain": [
       "[[1, 2, 3], [1, 3, 2], [2, 1, 3], [2, 3, 1], [3, 2, 1], [3, 1, 2]]"
      ]
     },
     "execution_count": 5,
     "metadata": {},
     "output_type": "execute_result"
    }
   ],
   "source": [
    "\n",
    "def permute( nums):\n",
    "    \"\"\"\n",
    "    :type nums: List[int]\n",
    "    :rtype: List[List[int]]\n",
    "    \"\"\"\n",
    "    def backtrack(first = 0):\n",
    "        # 所有数都填完了\n",
    "        if first == n:  \n",
    "            res.append(nums[:])\n",
    "        for i in range(first, n):\n",
    "            # 动态维护数组\n",
    "            nums[first], nums[i] = nums[i], nums[first]\n",
    "            # 继续递归填下一个数\n",
    "            backtrack(first + 1)\n",
    "            # 撤销操作\n",
    "            nums[first], nums[i] = nums[i], nums[first]\n",
    "    \n",
    "    n = len(nums)\n",
    "    res = []\n",
    "    backtrack()\n",
    "    return res\n",
    "\n",
    "nums = [1,2,3]\n",
    "permute( nums)\n"
   ]
  },
  {
   "cell_type": "code",
   "execution_count": 4,
   "metadata": {},
   "outputs": [
    {
     "data": {
      "text/plain": [
       "'123'"
      ]
     },
     "execution_count": 4,
     "metadata": {},
     "output_type": "execute_result"
    }
   ],
   "source": [
    "n  = \"123\"\n",
    "n[:]"
   ]
  }
 ],
 "metadata": {
  "kernelspec": {
   "display_name": "Python 3.11.0 64-bit",
   "language": "python",
   "name": "python3"
  },
  "language_info": {
   "codemirror_mode": {
    "name": "ipython",
    "version": 3
   },
   "file_extension": ".py",
   "mimetype": "text/x-python",
   "name": "python",
   "nbconvert_exporter": "python",
   "pygments_lexer": "ipython3",
   "version": "3.11.0"
  },
  "orig_nbformat": 4,
  "vscode": {
   "interpreter": {
    "hash": "6b97ecfeb1d4a72b181e544ce5ea1aad7092f954959a18129f9660f79e26a056"
   }
  }
 },
 "nbformat": 4,
 "nbformat_minor": 2
}
