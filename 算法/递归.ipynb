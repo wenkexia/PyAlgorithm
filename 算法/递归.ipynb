{
 "cells": [
  {
   "cell_type": "markdown",
   "metadata": {},
   "source": [
    "## 复杂度分析\n",
    "\n",
    "如何计算递归的时间复杂度和空间复杂度呢？\n",
    "\n",
    "\n"
   ]
  },
  {
   "cell_type": "markdown",
   "metadata": {},
   "source": [
    "### 时间复杂度\n",
    "给出一个递归算法，其时间复杂度O(T)通常是递归调用的数量(记作R)和计算的时间\n",
    "复杂度的乘积(表示为O(s)的乘积：O(T)=R*O(s)"
   ]
  },
  {
   "cell_type": "markdown",
   "metadata": {},
   "source": [
    "## 合并两个有序链表"
   ]
  },
  {
   "cell_type": "code",
   "execution_count": null,
   "metadata": {},
   "outputs": [],
   "source": [
    "class Solution:\n",
    "    def mergeTwoLists(self, l1: ListNode, l2: ListNode) -> ListNode:\n",
    "        if not l1: return l2  # 终止条件，直到两个链表都空\n",
    "        if not l2: return l1\n",
    "        if l1.val <= l2.val:  # 递归调用\n",
    "            l1.next = self.mergeTwoLists(l1.next,l2)\n",
    "            return l1\n",
    "        else:\n",
    "            l2.next = self.mergeTwoLists(l1,l2.next)\n",
    "            return l2\n",
    "\n",
    "\n",
    "class Node:\n",
    "    def __init__(self,data = None, next = None):\n",
    "        self.data = data\n",
    "        self.next = next"
   ]
  }
 ],
 "metadata": {
  "kernelspec": {
   "display_name": "Python 3.11.0 64-bit",
   "language": "python",
   "name": "python3"
  },
  "language_info": {
   "name": "python",
   "version": "3.11.0"
  },
  "orig_nbformat": 4,
  "vscode": {
   "interpreter": {
    "hash": "6b97ecfeb1d4a72b181e544ce5ea1aad7092f954959a18129f9660f79e26a056"
   }
  }
 },
 "nbformat": 4,
 "nbformat_minor": 2
}
