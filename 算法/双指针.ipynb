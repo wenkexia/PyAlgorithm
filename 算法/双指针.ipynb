{
 "cells": [
  {
   "cell_type": "markdown",
   "metadata": {},
   "source": [
    "### 167.两数之和 II - 输入有序数组\n",
    "给你一个下标从 1 开始的整数数组 numbers ，该数组已按 非递减顺序排列  ，请你从数组中找出满足相加之和等于目标数 target 的两个数。如果设这两个数分别是 numbers[index1] 和 numbers[index2] ，则 1 <= index1 < index2 <= numbers.length 。\n",
    "\n",
    "以长度为 2 的整数数组 [index1, index2] 的形式返回这两个整数的下标 index1 和 index2。"
   ]
  },
  {
   "cell_type": "code",
   "execution_count": 1,
   "metadata": {},
   "outputs": [
    {
     "name": "stdout",
     "output_type": "stream",
     "text": [
      "[1, 2]\n"
     ]
    }
   ],
   "source": [
    "def demo():\n",
    "    return [1,2]\n",
    "print(demo())"
   ]
  },
  {
   "cell_type": "code",
   "execution_count": 5,
   "metadata": {},
   "outputs": [
    {
     "data": {
      "text/plain": [
       "[1, 2]"
      ]
     },
     "execution_count": 5,
     "metadata": {},
     "output_type": "execute_result"
    }
   ],
   "source": [
    "# numbers = [2, 7, 11, 15]\n",
    "# target = 9\n",
    "# numbers = [2,3,4]\n",
    "# target = 6\n",
    "\n",
    "numbers = [-1,0]\n",
    "target = -1\n",
    "\n",
    "class Solution(object):\n",
    "    def twoSum(self, numbers, target):\n",
    "        left , right  = 0,len(numbers)-1\n",
    "        while left<=right:\n",
    "            m,n=numbers[left],numbers[right]\n",
    "            if m+n==target:\n",
    "                return [left+1,right+1]\n",
    "            elif m+n>target:\n",
    "                right-=1\n",
    "            elif m+n<target:\n",
    "                left+=1\n",
    "        return []\n",
    "    \n",
    "a= Solution()\n",
    "a.twoSum(numbers,target)"
   ]
  },
  {
   "cell_type": "code",
   "execution_count": 2,
   "metadata": {},
   "outputs": [
    {
     "data": {
      "text/plain": [
       "[0, 9, 7, 5]"
      ]
     },
     "execution_count": 2,
     "metadata": {},
     "output_type": "execute_result"
    }
   ],
   "source": [
    "named_slice = slice(5,1,-1)\n",
    "a = [1,3,5,7,9,0,3,5,7]\n",
    "\n",
    "a_slice = a[named_slice]\n",
    "a_slice"
   ]
  },
  {
   "cell_type": "markdown",
   "metadata": {},
   "source": [
    "## [5] 最长回文子串\n",
    "之前的左右指针都是从两端向中间相向而行\n",
    "而回文子串问题则是让左右指针从中心向两端扩展。"
   ]
  },
  {
   "cell_type": "code",
   "execution_count": 9,
   "metadata": {},
   "outputs": [
    {
     "data": {
      "text/plain": [
       "'bab'"
      ]
     },
     "execution_count": 9,
     "metadata": {},
     "output_type": "execute_result"
    }
   ],
   "source": [
    "def longestPalindrome( s):\n",
    "    \"\"\"\n",
    "    :type s: str\n",
    "    :rtype: str\n",
    "    \"\"\"\n",
    "    # 如果输入相同的 l 和 r，就相当于寻找长度为奇数的回文串，\n",
    "    # 如果输入相邻的 l 和 r，则相当于寻找长度为偶数的回文串。\n",
    "    def palinddrom(s, l, r):\n",
    "        while l >= 0 and r < len(s) and s[l] == s[r]:\n",
    "            # 双指针，向两边展开\n",
    "            l -= 1\n",
    "            r += 1\n",
    "        return s[l+1: r]\n",
    "    res = \"\"\n",
    "    for i in range(len(s)):\n",
    "        \n",
    "        str1 = palinddrom(s, i, i)\n",
    "        str2 = palinddrom(s, i, i+1)\n",
    "        res = str1 if len(str1) > len(res) else res\n",
    "        res = str2 if len(str2) > len(res) else res\n",
    "    return res\n",
    "longestPalindrome(\"babad\")"
   ]
  }
 ],
 "metadata": {
  "kernelspec": {
   "display_name": "Python 3.11.0 64-bit",
   "language": "python",
   "name": "python3"
  },
  "language_info": {
   "codemirror_mode": {
    "name": "ipython",
    "version": 3
   },
   "file_extension": ".py",
   "mimetype": "text/x-python",
   "name": "python",
   "nbconvert_exporter": "python",
   "pygments_lexer": "ipython3",
   "version": "3.11.0"
  },
  "orig_nbformat": 4,
  "vscode": {
   "interpreter": {
    "hash": "6b97ecfeb1d4a72b181e544ce5ea1aad7092f954959a18129f9660f79e26a056"
   }
  }
 },
 "nbformat": 4,
 "nbformat_minor": 2
}
