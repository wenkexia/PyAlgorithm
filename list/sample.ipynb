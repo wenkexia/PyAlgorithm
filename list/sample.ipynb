{
 "cells": [
  {
   "cell_type": "markdown",
   "source": [
    "杨辉三角形又称Pascal三角形，它的第i+1行是(a+b)i的展开式的系数。\n",
    "它的一个重要性质是：三角形中的每个数字等于它两肩上的数字相加。　　\n",
    "下面给出了杨辉三角形的前4行："
   ],
   "metadata": {
    "collapsed": false,
    "pycharm": {
     "name": "#%% md\n"
    }
   }
  },
  {
   "cell_type": "code",
   "execution_count": null,
   "metadata": {
    "collapsed": true,
    "pycharm": {
     "name": "#%%\n"
    }
   },
   "outputs": [],
   "source": [
    "n=int(input())\n",
    "nums=[[0]*n for i in range(n)]#初始化一个n*n的零阵\n",
    "for i in range(n):\n",
    "    for j in range(n):\n",
    "        if j==0:\n",
    "            nums[i][j]=1\n",
    "        else:\n",
    "            nums[i][j]=nums[i-1][j-1]+nums[i-1][j]\n",
    "        if nums[i][j]!=0:\n",
    "            print(nums[i][j],end=' ')\n",
    "    print()\n"
   ]
  }
 ],
 "metadata": {
  "kernelspec": {
   "display_name": "Python 3",
   "language": "python",
   "name": "python3"
  },
  "language_info": {
   "codemirror_mode": {
    "name": "ipython",
    "version": 2
   },
   "file_extension": ".py",
   "mimetype": "text/x-python",
   "name": "python",
   "nbconvert_exporter": "python",
   "pygments_lexer": "ipython2",
   "version": "2.7.6"
  }
 },
 "nbformat": 4,
 "nbformat_minor": 0
}