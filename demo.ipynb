{
 "cells": [
  {
   "cell_type": "markdown",
   "source": [],
   "metadata": {
    "collapsed": false,
    "pycharm": {
     "name": "#%% md\n"
    }
   }
  },
  {
   "cell_type": "code",
   "execution_count": 53,
   "outputs": [
    {
     "name": "stdout",
     "output_type": "stream",
     "text": [
      "7\n"
     ]
    }
   ],
   "source": [
    "a= 3\n",
    "b= 4\n",
    "print(a^b)"
   ],
   "metadata": {
    "collapsed": false,
    "pycharm": {
     "name": "#%%\n"
    }
   }
  },
  {
   "cell_type": "code",
   "execution_count": 60,
   "outputs": [
    {
     "ename": "SyntaxError",
     "evalue": "invalid syntax (3806841722.py, line 5)",
     "output_type": "error",
     "traceback": [
      "\u001B[1;36m  Input \u001B[1;32mIn [60]\u001B[1;36m\u001B[0m\n\u001B[1;33m    def pos(){|}\u001B[0m\n\u001B[1;37m             ^\u001B[0m\n\u001B[1;31mSyntaxError\u001B[0m\u001B[1;31m:\u001B[0m invalid syntax\n"
     ]
    }
   ],
   "source": [
    "\n",
    "a=[2, 1 ,4 ,3, 5]\n",
    "n=len(a)\n",
    "p,k=1,1\n",
    "\n",
    "def pos(a,n,p,k):\n",
    "    for i in range(p-1,n-1):\n",
    "        num = 0\n",
    "        if a[i]<a[i+1]:\n",
    "            num +=1\n",
    "            if num ==k:\n",
    "                return num+p"
   ],
   "metadata": {
    "collapsed": false,
    "pycharm": {
     "name": "#%%\n"
    }
   }
  },
  {
   "cell_type": "code",
   "execution_count": null,
   "outputs": [],
   "source": [
    "import collections\n",
    "import time\n",
    "\n",
    "\n",
    "n = list(input()) * 2\n",
    "\n",
    "le_n = len(n) // 2\n",
    "list_ans = collections.defaultdict(set)\n",
    "ans = ''\n",
    "le_ans = 0\n",
    "\n",
    "\n",
    "def re_ans(ans):\n",
    "    global list_ans, le_ans\n",
    "    re_ans = ''\n",
    "    for inex, i in enumerate(ans, 1):\n",
    "        re_ans += i\n",
    "        # if re_ans not in list_ans[inex]:\n",
    "        list_ans[inex].add(re_ans)\n",
    "\n",
    "            le_ans += 1\n",
    "\n",
    "log = time.time()\n",
    "count = 1\n",
    "for index, i in enumerate(n, 1):   #n是字符串数组\n",
    "    if le_ans < le_n:\n",
    "        ans += i\n",
    "        le_ans += 1\n",
    "        # if ans not in list_ans[index]:   #list_ans存入子字符串\n",
    "        list_ans[index].add(ans)\n",
    "    elif count < le_n:\n",
    "        ans = ans[1::] + i\n",
    "        re_ans(ans)\n",
    "        count += 1\n",
    "    else:\n",
    "        break\n",
    "\n",
    "print(le_ans)\n",
    "print(list_ans)\n",
    "print(time.time() - log)\n",
    "\n",
    "dic = { }"
   ],
   "metadata": {
    "collapsed": false,
    "pycharm": {
     "name": "#%%\n",
     "is_executing": true
    }
   }
  },
  {
   "cell_type": "code",
   "execution_count": null,
   "outputs": [],
   "source": [
    "a= set()\n",
    "for"
   ],
   "metadata": {
    "collapsed": false,
    "pycharm": {
     "name": "#%%\n"
    }
   }
  }
 ],
 "metadata": {
  "kernelspec": {
   "display_name": "Python 3",
   "language": "python",
   "name": "python3"
  },
  "language_info": {
   "codemirror_mode": {
    "name": "ipython",
    "version": 2
   },
   "file_extension": ".py",
   "mimetype": "text/x-python",
   "name": "python",
   "nbconvert_exporter": "python",
   "pygments_lexer": "ipython2",
   "version": "2.7.6"
  }
 },
 "nbformat": 4,
 "nbformat_minor": 0
}