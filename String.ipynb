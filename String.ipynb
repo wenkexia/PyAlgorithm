{
 "cells": [
  {
   "cell_type": "markdown",
   "metadata": {
    "collapsed": false,
    "pycharm": {
     "name": "#%% md\n"
    }
   },
   "source": [
    "## 1768. 交替合并字符串\n",
    "https://leetcode.cn/problems/merge-strings-alternately/\n",
    "给你两个字符串 word1 和 word2 。请你从 word1 开始，通过交替添加字母来合并字符串。如果一个字符串比另一个字符串长，就将多出来的字母追加到合并后字符串的末尾。\n",
    "\n",
    "返回 合并后的字符串 。\n",
    "\n"
   ]
  },
  {
   "cell_type": "code",
   "execution_count": null,
   "metadata": {
    "collapsed": true,
    "pycharm": {
     "name": "#%%\n"
    }
   },
   "outputs": [
    {
     "data": {
      "text/plain": [
       "'abcpqr'"
      ]
     },
     "execution_count": 4,
     "metadata": {},
     "output_type": "execute_result"
    }
   ],
   "source": [
    "# from typing import\n",
    "class Solution:\n",
    "    def mergeAlternately(self, word1: str, word2: str) -> str:\n",
    "        m,n = len(word1),len(word2)\n",
    "        a=b=0\n",
    "        ans = []\n",
    "        while a<m or b<n:\n",
    "            if a<m:\n",
    "                ans.append(word1[a])\n",
    "                a+=1\n",
    "            if b<n:\n",
    "                ans.append(word2[b])\n",
    "                b+=1\n",
    "        return ''.join(ans)\n",
    "\n",
    "word1 = \"abc\"\n",
    "word2 = \"pqr\"\n",
    "s= Solution()\n",
    "s.mergeAlternately(word1,word2)"
   ]
  },
  {
   "cell_type": "code",
   "execution_count": null,
   "metadata": {
    "collapsed": false,
    "pycharm": {
     "name": "#%%\n"
    }
   },
   "outputs": [
    {
     "ename": "SyntaxError",
     "evalue": "invalid syntax (<ipython-input-7-f80612afe3a1>, line 4)",
     "output_type": "error",
     "traceback": [
      "\u001B[1;36m  File \u001B[1;32m\"<ipython-input-7-f80612afe3a1>\"\u001B[1;36m, line \u001B[1;32m4\u001B[0m\n\u001B[1;33m    print(a || b)\u001B[0m\n\u001B[1;37m             ^\u001B[0m\n\u001B[1;31mSyntaxError\u001B[0m\u001B[1;31m:\u001B[0m invalid syntax\n"
     ]
    }
   ],
   "source": [
    "a={1,2,5,22,2,2,2,}\n",
    "b={1,1,5,6,66,65}\n",
    "print(a-b)\n",
    "print(a || b)"
   ]
  },
  {
   "cell_type": "markdown",
   "metadata": {
    "collapsed": false,
    "pycharm": {
     "name": "#%% md\n"
    }
   },
   "source": [
    "## 排名\n",
    "一共有 22 行。\n",
    "第一行一个整数 nn ，表示一共有 nn 个人。\n",
    "第二行有nn个空格隔开的整数。第ii个数a_ia\n",
    "i\n",
    "\n",
    " 表示第ii个人的风云力数值。"
   ]
  },
  {
   "cell_type": "code",
   "execution_count": null,
   "metadata": {
    "collapsed": false,
    "pycharm": {
     "name": "#%%\n"
    }
   },
   "outputs": [
    {
     "name": "stdout",
     "output_type": "stream",
     "text": [
      "3\n",
      "3\n",
      "4\n",
      "1\n",
      "3\n"
     ]
    }
   ],
   "source": [
    "n= 5\n",
    "nums=[50 ,40 ,30 ,100 ,50]\n",
    "\n",
    "l=sorted(nums,reverse=True)\n",
    "new = []\n",
    "for i in range(0,n-1):\n",
    "   if l[i]==l[i+1]:\n",
    "        new.append(i-1)\n",
    "   else:\n",
    "        new.append(i+1)\n",
    "\n",
    "\n",
    "dic = dict(zip(l,new))\n",
    "for i in nums:\n",
    "    print(dic[i])\n"
   ]
  },
  {
   "cell_type": "code",
   "execution_count": 3,
   "metadata": {
    "collapsed": false,
    "pycharm": {
     "name": "#%%\n"
    }
   },
   "outputs": [
    {
     "name": "stdout",
     "output_type": "stream",
     "text": [
      "[(100, 1), (50, 2), (40, 1), (30, 1)]\n",
      "defaultdict(<class 'int'>, {})\n"
     ]
    }
   ],
   "source": [
    "import collections\n",
    "\n",
    "word = list(map(int, '50 40 30 100 50'.split(' ')))\n",
    "counter = sorted(list(collections.Counter(word).items()), reverse=True)\n",
    "print(counter)\n",
    "num = 1\n",
    "a = collections.defaultdict(int)\n",
    "print(a)\n",
    "# for i in counter:\n",
    "#     a[i[0]] += num\n",
    "#     num += i[1]\n",
    "# for i in word:\n",
    "#     print(a[i], end=' ')"
   ]
  },
  {
   "cell_type": "code",
   "execution_count": 37,
   "metadata": {
    "collapsed": false,
    "pycharm": {
     "name": "#%%\n"
    }
   },
   "outputs": [
    {
     "name": "stdout",
     "output_type": "stream",
     "text": [
      "2 4 5 1 2\n"
     ]
    }
   ],
   "source": [
    "\n",
    "length = input()\n",
    "# values = input().split(\" \")\n",
    "values = list(map(int, '50 40 30 100 50'.split(' ')))\n",
    "\n",
    "rank = sorted(values, key=int, reverse=True)\n",
    "print(\" \".join([str(rank.index(value) + 1) for value in values]))"
   ]
  },
  {
   "cell_type": "code",
   "execution_count": 33,
   "metadata": {
    "collapsed": false,
    "pycharm": {
     "name": "#%%\n"
    }
   },
   "outputs": [
    {
     "name": "stdout",
     "output_type": "stream",
     "text": [
      "5\n"
     ]
    }
   ],
   "source": [
    "\n",
    "class Solution:\n",
    "    def reverseStr(self, s: str, k: int) -> str:\n",
    "        n = len(s)\n",
    "        if n<2k:\n",
    "            return s\n",
    "\n",
    "\n",
    "if __name__ ='__main__':\n",
    "\n",
    "\n"
   ]
  },
  {
   "cell_type": "code",
   "execution_count": 9,
   "metadata": {
    "collapsed": false,
    "pycharm": {
     "name": "#%%\n"
    }
   },
   "outputs": [
    {
     "name": "stdout",
     "output_type": "stream",
     "text": [
      "defaultdict(<class 'list'>, {1: [4, 5]})\n"
     ]
    }
   ],
   "source": [
    "import collections\n",
    "\n",
    "b = collections.defaultdict(list)\n",
    "b[1].append(4)\n",
    "b[1].append(5)\n",
    "print(b)  #{1: [4, 5]}"
   ]
  },
  {
   "cell_type": "code",
   "execution_count": null,
   "outputs": [],
   "source": [
    "print(1)"
   ],
   "metadata": {
    "collapsed": false,
    "pycharm": {
     "name": "#%%\n"
    }
   }
  },
  {
   "cell_type": "code",
   "execution_count": null,
   "metadata": {
    "pycharm": {
     "name": "#%%\n"
    }
   },
   "outputs": [],
   "source": [
    "print(1)"
   ]
  }
 ],
 "metadata": {
  "kernelspec": {
   "display_name": "Python 3.11.0 64-bit",
   "language": "python",
   "name": "python3"
  },
  "language_info": {
   "codemirror_mode": {
    "name": "ipython",
    "version": 2
   },
   "file_extension": ".py",
   "mimetype": "text/x-python",
   "name": "python",
   "nbconvert_exporter": "python",
   "pygments_lexer": "ipython2",
   "version": "3.11.0"
  },
  "vscode": {
   "interpreter": {
    "hash": "6b97ecfeb1d4a72b181e544ce5ea1aad7092f954959a18129f9660f79e26a056"
   }
  }
 },
 "nbformat": 4,
 "nbformat_minor": 0
}