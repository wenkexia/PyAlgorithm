{
 "cells": [
  {
   "cell_type": "markdown",
   "metadata": {
    "pycharm": {
     "name": "#%% md\n"
    }
   },
   "source": [
    "\n",
    "\n",
    "\n",
    "\n",
    "\n",
    "\n",
    "\n",
    "\n",
    "\n",
    "## 两数之和"
   ]
  },
  {
   "cell_type": "code",
   "execution_count": null,
   "metadata": {
    "pycharm": {
     "name": "#%%\n"
    }
   },
   "outputs": [],
   "source": [
    "def twoSum(nums, target):\n",
    "    dic = {}\n",
    "    for i, x in enumerate(nums):\n",
    "        if target - x in dic:\n",
    "            return [dic[target - x], i]\n",
    "        dic[x] = i\n",
    "\n",
    "\n",
    "\n"
   ]
  },
  {
   "cell_type": "markdown",
   "metadata": {
    "pycharm": {
     "name": "#%% md\n"
    }
   },
   "source": [
    "\n",
    "## 27.移除元素\n",
    "给你一个数组 nums 和一个值 val，你需要 原地 移除所有数值等于 val 的元素，并返回移除后数组的新长度。\n",
    "\n",
    "不要使用额外的数组空间，你必须仅使用 O(1) 额外空间并 原地 修改输入数组。\n",
    "\n",
    "元素的顺序可以改变。你不需要考虑数组中超出新长度后面的元素。\n"
   ]
  },
  {
   "cell_type": "code",
   "execution_count": null,
   "metadata": {
    "pycharm": {
     "name": "#%%\n"
    }
   },
   "outputs": [],
   "source": [
    "def removeElement(nums,val):\n",
    "    j=0\n",
    "    for i in range(len(nums)):\n",
    "        if(nums[i]!=val):\n",
    "            nums[j]=nums[i]\n",
    "        j+=1\n",
    "    return nums\n",
    "    \n",
    "nums = [3,2,2,3]\n",
    "val = 3\n",
    "\n",
    "print(removeElement(nums,val))\n",
    "\n"
   ]
  },
  {
   "cell_type": "markdown",
   "metadata": {
    "pycharm": {
     "name": "#%% md\n"
    }
   },
   "source": [
    "## 915.分割数组\n",
    "[915.分割数组](https://leetcode.cn/problems/partition-array-into-disjoint-intervals/)\n",
    "\n",
    "给定一个数组 nums ，将其划分为两个连续子数组 left 和 right， 使得：\n",
    "\n",
    "left 中的每个元素都小于或等于 right 中的每个元素。\n",
    "left 和 right 都是非空的。\n",
    "left 的长度要尽可能小。\n",
    "在完成这样的分组后返回 left 的 长度 。\n",
    "\n",
    "用例可以保证存在这样的划分方法。\n"
   ]
  },
  {
   "cell_type": "code",
   "execution_count": 2,
   "metadata": {
    "pycharm": {
     "name": "#%%\n"
    }
   },
   "outputs": [
    {
     "data": {
      "text/plain": [
       "3"
      ]
     },
     "execution_count": 2,
     "metadata": {},
     "output_type": "execute_result"
    }
   ],
   "source": [
    "from typing import List\n",
    "class Solution:\n",
    "    #超时\n",
    "    def partitionDisjoint(self, nums: List[int]) -> int:\n",
    "        for i,e in enumerate(nums):\n",
    "            m=nums[:i+1]\n",
    "            n=nums[i+1:]\n",
    "            if max(m)<=min(n):  #每次max()都会遍历列表\n",
    "                return( i+1)\n",
    "                break\n",
    "\n",
    "nums = [5,0,3,8,6]\n",
    "s =Solution()\n",
    "s.partitionDisjoint(nums)\n"
   ]
  },
  {
   "cell_type": "code",
   "execution_count": 1,
   "metadata": {
    "collapsed": false,
    "pycharm": {
     "name": "#%%\n"
    }
   },
   "outputs": [],
   "source": [
    "from typing import List\n",
    "class Solution:\n",
    "    def partitionDisjoint(self, nums: List[int]) -> int:\n",
    "        left = 0\n",
    "        right =len(nums)-1\n",
    "        while right<=0:\n",
    "            mid=(right-left) /2\n",
    "            m=max(nums[:mid+1])\n",
    "            n=min(nums[mid+1:])\n",
    "            if m>n:\n",
    "                right = mid-1;\n",
    "            elif m<=n:\n",
    "                return mid\n",
    "\n",
    "nums = [5,0,3,8,6]\n",
    "s =Solution()\n",
    "s.partitionDisjoint(nums)"
   ]
  },
  {
   "cell_type": "code",
   "execution_count": 2,
   "metadata": {
    "collapsed": false,
    "pycharm": {
     "name": "#%%\n"
    }
   },
   "outputs": [
    {
     "data": {
      "text/plain": [
       "4"
      ]
     },
     "execution_count": 2,
     "metadata": {},
     "output_type": "execute_result"
    }
   ],
   "source": [
    "#可用\n",
    "class Solution:\n",
    "    def partitionDisjoint(self, nums: List[int]) -> int:\n",
    "        n = len(nums)\n",
    "        #维护一个左边最大值，一个当前最大值\n",
    "        max_l=max_curr = nums[0]\n",
    "        #维护一个左边的位置\n",
    "        curr_pos = 0\n",
    "        for i in range(1,n):\n",
    "            max_curr  =max(max_curr,nums[i])\n",
    "            if nums[i]<max_l:\n",
    "                max_l ,curr_pos = max_curr,i\n",
    "        return curr_pos+1\n",
    "\n",
    "nums = [1,1,1,0,6,12]\n",
    "s =Solution()\n",
    "s.partitionDisjoint(nums)\n"
   ]
  },
  {
   "cell_type": "markdown",
   "metadata": {
    "collapsed": false,
    "pycharm": {
     "name": "#%% md\n"
    }
   },
   "source": [
    "## 934.最短的桥"
   ]
  },
  {
   "cell_type": "code",
   "execution_count": null,
   "metadata": {
    "collapsed": false,
    "pycharm": {
     "name": "#%%\n"
    }
   },
   "outputs": [],
   "source": [
    "class Solution:\n",
    "    def shortestBridge(self, grid: List[List[int]]) -> int:\n",
    "        def dfs(i, j):\n",
    "            q.append((i, j))\n",
    "            grid[i][j] = 2\n",
    "            for a, b in pairwise(dirs):\n",
    "                x, y = i + a, j + b\n",
    "                if 0 <= x < n and 0 <= y < n and grid[x][y] == 1:\n",
    "                    dfs(x, y)\n",
    "\n",
    "        n = len(grid)\n",
    "        dirs = (-1, 0, 1, 0, -1)\n",
    "        q = deque()\n",
    "        i, j = next((i, j) for i in range(n) for j in range(n) if grid[i][j])\n",
    "        dfs(i, j)\n",
    "        ans = 0\n",
    "        while 1:\n",
    "            for _ in range(len(q)):\n",
    "                i, j = q.popleft()\n",
    "                for a, b in pairwise(dirs):\n",
    "                    x, y = i + a, j + b\n",
    "                    if 0 <= x < n and 0 <= y < n:\n",
    "                        if grid[x][y] == 1:\n",
    "                            return ans\n",
    "                        if grid[x][y] == 0:\n",
    "                            grid[x][y] = 2\n",
    "                            q.append((x, y))\n",
    "            ans += 1\n",
    "\n"
   ]
  },
  {
   "cell_type": "code",
   "execution_count": 11,
   "metadata": {
    "collapsed": false,
    "pycharm": {
     "name": "#%%\n"
    }
   },
   "outputs": [
    {
     "ename": "AttributeError",
     "evalue": "'NoneType' object has no attribute 'f_code'",
     "output_type": "error",
     "traceback": [
      "\u001b[1;31m---------------------------------------------------------------------------\u001b[0m",
      "\u001b[1;31mAttributeError\u001b[0m                            Traceback (most recent call last)",
      "\u001b[1;32m<ipython-input-11-7e73b304f6ff>\u001b[0m in \u001b[0;36m<module>\u001b[1;34m\u001b[0m\n\u001b[0;32m      1\u001b[0m \u001b[1;32mfrom\u001b[0m \u001b[0mtyping\u001b[0m \u001b[1;32mimport\u001b[0m \u001b[0mList\u001b[0m\u001b[1;33m\u001b[0m\u001b[1;33m\u001b[0m\u001b[0m\n\u001b[1;32m----> 2\u001b[1;33m \u001b[1;32mclass\u001b[0m \u001b[0mSolution\u001b[0m\u001b[1;33m:\u001b[0m\u001b[1;33m\u001b[0m\u001b[1;33m\u001b[0m\u001b[0m\n\u001b[0m\u001b[0;32m      3\u001b[0m     \u001b[1;32mdef\u001b[0m \u001b[0msumSubarrayMins\u001b[0m\u001b[1;33m(\u001b[0m\u001b[0mself\u001b[0m\u001b[1;33m,\u001b[0m \u001b[0marr\u001b[0m\u001b[1;33m:\u001b[0m \u001b[0mList\u001b[0m\u001b[1;33m[\u001b[0m\u001b[0mint\u001b[0m\u001b[1;33m]\u001b[0m\u001b[1;33m)\u001b[0m \u001b[1;33m->\u001b[0m \u001b[0mint\u001b[0m\u001b[1;33m:\u001b[0m\u001b[1;33m\u001b[0m\u001b[1;33m\u001b[0m\u001b[0m\n\u001b[0;32m      4\u001b[0m         \u001b[0mn\u001b[0m\u001b[1;33m=\u001b[0m\u001b[0mlen\u001b[0m\u001b[1;33m(\u001b[0m\u001b[0marr\u001b[0m\u001b[1;33m)\u001b[0m\u001b[1;33m\u001b[0m\u001b[1;33m\u001b[0m\u001b[0m\n\u001b[0;32m      5\u001b[0m         \u001b[0ms\u001b[0m\u001b[1;33m=\u001b[0m\u001b[1;36m0\u001b[0m\u001b[1;33m\u001b[0m\u001b[1;33m\u001b[0m\u001b[0m\n",
      "\u001b[1;32m_pydevd_bundle\\pydevd_cython_win32_38_64.pyx\u001b[0m in \u001b[0;36m_pydevd_bundle.pydevd_cython_win32_38_64.SafeCallWrapper.__call__\u001b[1;34m()\u001b[0m\n",
      "\u001b[1;32m_pydevd_bundle\\pydevd_cython_win32_38_64.pyx\u001b[0m in \u001b[0;36m_pydevd_bundle.pydevd_cython_win32_38_64.PyDBFrame.trace_dispatch\u001b[1;34m()\u001b[0m\n",
      "\u001b[1;32m_pydevd_bundle\\pydevd_cython_win32_38_64.pyx\u001b[0m in \u001b[0;36m_pydevd_bundle.pydevd_cython_win32_38_64.PyDBFrame.trace_dispatch\u001b[1;34m()\u001b[0m\n",
      "\u001b[1;32mD:\\ruanjian\\PyCharm 2022.1.1\\plugins\\python\\helpers-pro\\jupyter_debug\\pydev_jupyter_plugin.py\u001b[0m in \u001b[0;36mcan_not_skip\u001b[1;34m(plugin, pydb, pydb_frame, frame, info)\u001b[0m\n\u001b[0;32m     90\u001b[0m \u001b[1;32mdef\u001b[0m \u001b[0mcan_not_skip\u001b[0m\u001b[1;33m(\u001b[0m\u001b[0mplugin\u001b[0m\u001b[1;33m,\u001b[0m \u001b[0mpydb\u001b[0m\u001b[1;33m,\u001b[0m \u001b[0mpydb_frame\u001b[0m\u001b[1;33m,\u001b[0m \u001b[0mframe\u001b[0m\u001b[1;33m,\u001b[0m \u001b[0minfo\u001b[0m\u001b[1;33m)\u001b[0m\u001b[1;33m:\u001b[0m\u001b[1;33m\u001b[0m\u001b[1;33m\u001b[0m\u001b[0m\n\u001b[0;32m     91\u001b[0m     \u001b[0mstep_cmd\u001b[0m \u001b[1;33m=\u001b[0m \u001b[0minfo\u001b[0m\u001b[1;33m.\u001b[0m\u001b[0mpydev_step_cmd\u001b[0m\u001b[1;33m\u001b[0m\u001b[1;33m\u001b[0m\u001b[0m\n\u001b[1;32m---> 92\u001b[1;33m     \u001b[1;32mif\u001b[0m \u001b[0mstep_cmd\u001b[0m \u001b[1;33m==\u001b[0m \u001b[1;36m108\u001b[0m \u001b[1;32mand\u001b[0m \u001b[0m_is_equals\u001b[0m\u001b[1;33m(\u001b[0m\u001b[0mframe\u001b[0m\u001b[1;33m,\u001b[0m \u001b[0m_get_stop_frame\u001b[0m\u001b[1;33m(\u001b[0m\u001b[0minfo\u001b[0m\u001b[1;33m)\u001b[0m\u001b[1;33m)\u001b[0m\u001b[1;33m:\u001b[0m\u001b[1;33m\u001b[0m\u001b[1;33m\u001b[0m\u001b[0m\n\u001b[0m\u001b[0;32m     93\u001b[0m         \u001b[1;32mreturn\u001b[0m \u001b[1;32mTrue\u001b[0m\u001b[1;33m\u001b[0m\u001b[1;33m\u001b[0m\u001b[0m\n\u001b[0;32m     94\u001b[0m     \u001b[1;32mif\u001b[0m \u001b[0mpydb\u001b[0m\u001b[1;33m.\u001b[0m\u001b[0mjupyter_breakpoints\u001b[0m\u001b[1;33m:\u001b[0m\u001b[1;33m\u001b[0m\u001b[1;33m\u001b[0m\u001b[0m\n",
      "\u001b[1;32mD:\\ruanjian\\PyCharm 2022.1.1\\plugins\\python\\helpers-pro\\jupyter_debug\\pydev_jupyter_plugin.py\u001b[0m in \u001b[0;36m_is_equals\u001b[1;34m(frame, other_frame)\u001b[0m\n\u001b[0;32m    124\u001b[0m     \u001b[1;31m# in cell separately. At the same time, the frame filename is unique and stays\u001b[0m\u001b[1;33m\u001b[0m\u001b[1;33m\u001b[0m\u001b[1;33m\u001b[0m\u001b[0m\n\u001b[0;32m    125\u001b[0m     \u001b[1;31m# the same within a cell.\u001b[0m\u001b[1;33m\u001b[0m\u001b[1;33m\u001b[0m\u001b[1;33m\u001b[0m\u001b[0m\n\u001b[1;32m--> 126\u001b[1;33m     \u001b[1;32mreturn\u001b[0m \u001b[0mframe\u001b[0m\u001b[1;33m.\u001b[0m\u001b[0mf_code\u001b[0m\u001b[1;33m.\u001b[0m\u001b[0mco_filename\u001b[0m \u001b[1;33m==\u001b[0m \u001b[0mother_frame\u001b[0m\u001b[1;33m.\u001b[0m\u001b[0mf_code\u001b[0m\u001b[1;33m.\u001b[0m\u001b[0mco_filename\u001b[0m\u001b[0;31m \u001b[0m\u001b[0;31m\\\u001b[0m\u001b[1;33m\u001b[0m\u001b[1;33m\u001b[0m\u001b[0m\n\u001b[0m\u001b[0;32m    127\u001b[0m            and ((frame.f_code.co_name.startswith('<cell line:')\n\u001b[0;32m    128\u001b[0m                  and other_frame.f_code.co_name.startswith('<cell line:'))\n",
      "\u001b[1;31mAttributeError\u001b[0m: 'NoneType' object has no attribute 'f_code'"
     ]
    }
   ],
   "source": [
    "from typing import List\n",
    "class Solution:\n",
    "    def sumSubarrayMins(self, arr: List[int]) -> int:\n",
    "        n=len(arr)\n",
    "        s=0\n",
    "        for i in range(n):\n",
    "            for j in range(n):\n",
    "                if i==j:\n",
    "                    s+=arr[i]\n",
    "                else:\n",
    "                    s+=min(arr[i:j])\n",
    "        return s\n",
    "if __name__ == '__main__':\n",
    "    arr = [3,1,2,4]\n",
    "\n",
    "    s= Solution()\n",
    "    a=s.sumSubarrayMins(arr)\n",
    "    print(a)\n"
   ]
  }
 ],
 "metadata": {
  "kernelspec": {
   "display_name": "Python 3.8.8 ('base')",
   "language": "python",
   "name": "python3"
  },
  "language_info": {
   "codemirror_mode": {
    "name": "ipython",
    "version": 3
   },
   "file_extension": ".py",
   "mimetype": "text/x-python",
   "name": "python",
   "nbconvert_exporter": "python",
   "pygments_lexer": "ipython3",
   "version": "3.9.13"
  },
  "orig_nbformat": 4,
  "vscode": {
   "interpreter": {
    "hash": "e12ddd010df99af3d2a0699e046c9713c7b64c28af730a366b6574ca5c24de30"
   }
  }
 },
 "nbformat": 4,
 "nbformat_minor": 2
}
