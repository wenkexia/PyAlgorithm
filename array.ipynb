{
 "cells": [
  {
   "cell_type": "markdown",
   "metadata": {
    "pycharm": {
     "name": "#%% md\n"
    }
   },
   "source": [
    "\n",
    "\n",
    "\n",
    "\n",
    "\n",
    "\n",
    "\n",
    "\n",
    "\n",
    "## 两数之和"
   ]
  },
  {
   "cell_type": "code",
   "execution_count": null,
   "outputs": [],
   "source": [
    "def twoSum(nums, target):\n",
    "    dic = {}\n",
    "    for i, x in enumerate(nums):\n",
    "        if target - x in dic:\n",
    "            return [dic[target - x], i]\n",
    "        dic[x] = i\n",
    "\n",
    "\n",
    "\n"
   ],
   "metadata": {
    "collapsed": false,
    "pycharm": {
     "name": "#%%\n"
    }
   }
  },
  {
   "cell_type": "markdown",
   "source": [
    "\n",
    "## 27.移除元素\n",
    "给你一个数组 nums 和一个值 val，你需要 原地 移除所有数值等于 val 的元素，并返回移除后数组的新长度。\n",
    "\n",
    "不要使用额外的数组空间，你必须仅使用 O(1) 额外空间并 原地 修改输入数组。\n",
    "\n",
    "元素的顺序可以改变。你不需要考虑数组中超出新长度后面的元素。\n"
   ],
   "metadata": {
    "collapsed": false,
    "pycharm": {
     "name": "#%% md\n"
    }
   }
  },
  {
   "cell_type": "code",
   "execution_count": null,
   "outputs": [],
   "source": [
    "def removeElement(nums,val):\n",
    "    j=0\n",
    "    for i in range(len(nums)):\n",
    "        if(nums[i]!=val):\n",
    "            nums[j]=nums[i]\n",
    "        j+=1\n",
    "    return nums\n",
    "    \n",
    "nums = [3,2,2,3]\n",
    "val = 3\n",
    "\n",
    "print(removeElement(nums,val))\n",
    "\n"
   ],
   "metadata": {
    "collapsed": false,
    "pycharm": {
     "name": "#%%\n"
    }
   }
  },
  {
   "cell_type": "markdown",
   "source": [
    "## 915.分割数组\n",
    "[915.分割数组](https://leetcode.cn/problems/partition-array-into-disjoint-intervals/)\n",
    "\n",
    "给定一个数组 nums ，将其划分为两个连续子数组 left 和 right， 使得：\n",
    "\n",
    "left 中的每个元素都小于或等于 right 中的每个元素。\n",
    "left 和 right 都是非空的。\n",
    "left 的长度要尽可能小。\n",
    "在完成这样的分组后返回 left 的 长度 。\n",
    "\n",
    "用例可以保证存在这样的划分方法。\n"
   ],
   "metadata": {
    "collapsed": false,
    "pycharm": {
     "name": "#%% md\n"
    }
   }
  },
  {
   "cell_type": "code",
   "execution_count": null,
   "outputs": [],
   "source": [
    "from typing import List\n",
    "class Solution:\n",
    "    #超时\n",
    "    def partitionDisjoint(self, nums: List[int]) -> int:\n",
    "        for i,e in enumerate(nums):\n",
    "            m=nums[:i+1]\n",
    "            n=nums[i+1:]\n",
    "            if max(m)<=min(n):  #每次max()都会遍历列表\n",
    "                return( i+1)\n",
    "                break\n",
    "\n",
    "nums = [5,0,3,8,6]\n",
    "s =Solution()\n",
    "s.partitionDisjoint(nums)\n"
   ],
   "metadata": {
    "collapsed": false,
    "pycharm": {
     "name": "#%%\n"
    }
   }
  },
  {
   "cell_type": "code",
   "execution_count": null,
   "outputs": [],
   "source": [
    "from typing import List\n",
    "class Solution:\n",
    "    def partitionDisjoint(self, nums: List[int]) -> int:\n",
    "        left = 0\n",
    "        right =len(nums)-1\n",
    "        while right<=0:\n",
    "            mid=(right-left) /2\n",
    "            m=max(nums[:mid+1])\n",
    "            n=min(nums[mid+1:])\n",
    "            if m>n:\n",
    "                right = mid-1;\n",
    "            elif m<=n:\n",
    "                return mid\n",
    "\n",
    "nums = [5,0,3,8,6]\n",
    "s =Solution()\n",
    "s.partitionDisjoint(nums)"
   ],
   "metadata": {
    "collapsed": false,
    "pycharm": {
     "name": "#%%\n"
    }
   }
  },
  {
   "cell_type": "code",
   "execution_count": null,
   "outputs": [],
   "source": [
    "#可用\n",
    "class Solution:\n",
    "    def partitionDisjoint(self, nums: List[int]) -> int:\n",
    "        n = len(nums)\n",
    "        #维护一个左边最大值，一个当前最大值\n",
    "        max_l=max_curr = nums[0]\n",
    "        #维护一个左边的位置\n",
    "        curr_pos = 0\n",
    "        for i in range(1,n):\n",
    "            max_curr  =max(max_curr,nums[i])\n",
    "            if nums[i]<max_l:\n",
    "                max_l ,curr_pos = max_curr,i\n",
    "        return curr_pos+1\n",
    "\n",
    "nums = [1,1,1,0,6,12]\n",
    "s =Solution()\n",
    "s.partitionDisjoint(nums)\n"
   ],
   "metadata": {
    "collapsed": false,
    "pycharm": {
     "name": "#%%\n"
    }
   }
  },
  {
   "cell_type": "markdown",
   "source": [
    "## 934.最短的桥"
   ],
   "metadata": {
    "collapsed": false,
    "pycharm": {
     "name": "#%% md\n"
    }
   }
  }
 ],
 "metadata": {
  "kernelspec": {
   "display_name": "Python 3.8.8 ('base')",
   "language": "python",
   "name": "python3"
  },
  "language_info": {
   "codemirror_mode": {
    "name": "ipython",
    "version": 3
   },
   "file_extension": ".py",
   "mimetype": "text/x-python",
   "name": "python",
   "nbconvert_exporter": "python",
   "pygments_lexer": "ipython3",
   "version": "3.9.13"
  },
  "orig_nbformat": 4,
  "vscode": {
   "interpreter": {
    "hash": "e12ddd010df99af3d2a0699e046c9713c7b64c28af730a366b6574ca5c24de30"
   }
  }
 },
 "nbformat": 4,
 "nbformat_minor": 2
}