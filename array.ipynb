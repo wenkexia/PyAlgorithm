{
 "cells": [
  {
   "cell_type": "markdown",
   "metadata": {
    "pycharm": {
     "name": "#%% md\n"
    }
   },
   "source": [
    "\n",
    "\n",
    "\n",
    "\n",
    "\n",
    "\n",
    "\n",
    "\n",
    "\n",
    "## 两数之和"
   ]
  },
  {
   "cell_type": "code",
   "execution_count": null,
   "metadata": {
    "pycharm": {
     "name": "#%%\n"
    }
   },
   "outputs": [],
   "source": [
    "def twoSum(nums, target):\n",
    "    dic = {}\n",
    "    for i, x in enumerate(nums):\n",
    "        if target - x in dic:\n",
    "            return [dic[target - x], i]\n",
    "        dic[x] = i\n",
    "\n",
    "\n",
    "if __name__ == '__main__':\n",
    "    nums = [2, 7, 11, 15]\n",
    "    target = 9\n",
    "    print(twoSum(nums, target))\n"
   ]
  },
  {
   "cell_type": "markdown",
   "metadata": {
    "pycharm": {
     "name": "#%% md\n"
    }
   },
   "source": [
    "\n",
    "## 27.移除元素\n",
    "给你一个数组 nums 和一个值 val，你需要 原地 移除所有数值等于 val 的元素，并返回移除后数组的新长度。\n",
    "\n",
    "不要使用额外的数组空间，你必须仅使用 O(1) 额外空间并 原地 修改输入数组。\n",
    "\n",
    "元素的顺序可以改变。你不需要考虑数组中超出新长度后面的元素。\n"
   ]
  },
  {
   "cell_type": "code",
   "execution_count": null,
   "metadata": {
    "pycharm": {
     "name": "#%%\n"
    }
   },
   "outputs": [],
   "source": [
    "def removeElement(nums,val):\n",
    "    j=0\n",
    "    for i in range(len(nums)):\n",
    "        if(nums[i]!=val):\n",
    "            nums[j]=nums[i]\n",
    "        j+=1\n",
    "    return nums\n",
    "    \n",
    "nums = [3,2,2,3]\n",
    "val = 3\n",
    "\n",
    "print(removeElement(nums,val))\n",
    "\n"
   ]
  },
  {
   "cell_type": "markdown",
   "metadata": {
    "pycharm": {
     "name": "#%% md\n"
    }
   },
   "source": [
    "## 915.分割数组\n",
    "[915.分割数组](https://leetcode.cn/problems/partition-array-into-disjoint-intervals/)\n",
    "\n",
    "给定一个数组 nums ，将其划分为两个连续子数组 left 和 right， 使得：\n",
    "\n",
    "left 中的每个元素都小于或等于 right 中的每个元素。\n",
    "left 和 right 都是非空的。\n",
    "left 的长度要尽可能小。\n",
    "在完成这样的分组后返回 left 的 长度 。\n",
    "\n",
    "用例可以保证存在这样的划分方法。\n"
   ]
  },
  {
   "cell_type": "code",
   "execution_count": 2,
   "metadata": {
    "pycharm": {
     "name": "#%%\n"
    }
   },
   "outputs": [
    {
     "data": {
      "text/plain": "3"
     },
     "execution_count": 2,
     "metadata": {},
     "output_type": "execute_result"
    }
   ],
   "source": [
    "from typing import List\n",
    "class Solution:\n",
    "    #超时\n",
    "    def partitionDisjoint(self, nums: List[int]) -> int:\n",
    "        for i,e in enumerate(nums):\n",
    "            m=nums[:i+1]\n",
    "            n=nums[i+1:]\n",
    "            if max(m)<=min(n):  #每次max()都会遍历列表\n",
    "                return( i+1)\n",
    "                break\n",
    "\n",
    "nums = [5,0,3,8,6]\n",
    "s =Solution()\n",
    "s.partitionDisjoint(nums)\n"
   ]
  },
  {
   "cell_type": "code",
   "execution_count": 13,
   "outputs": [],
   "source": [
    "from typing import List\n",
    "class Solution:\n",
    "    def partitionDisjoint(self, nums: List[int]) -> int:\n",
    "        left = 0\n",
    "        right =len(nums)-1\n",
    "        while right<=0:\n",
    "            mid=(right-left) /2\n",
    "            m=max(nums[:mid+1])\n",
    "            n=min(nums[mid+1:])\n",
    "            if m>n:\n",
    "                right = mid-1;\n",
    "            elif m<=n:\n",
    "                return mid\n",
    "\n",
    "nums = [5,0,3,8,6]\n",
    "s =Solution()\n",
    "s.partitionDisjoint(nums)"
   ],
   "metadata": {
    "collapsed": false,
    "pycharm": {
     "name": "#%%\n"
    }
   }
  },
  {
   "cell_type": "code",
   "execution_count": 16,
   "outputs": [
    {
     "data": {
      "text/plain": "4"
     },
     "execution_count": 16,
     "metadata": {},
     "output_type": "execute_result"
    }
   ],
   "source": [
    "#可用\n",
    "class Solution:\n",
    "    def partitionDisjoint(self, nums: List[int]) -> int:\n",
    "        n = len(nums)\n",
    "        #维护一个左边最大值，一个当前最大值\n",
    "        max_l=max_curr = nums[0]\n",
    "        #维护一个左边的位置\n",
    "        curr_pos = 0\n",
    "        for i in range(1,n):\n",
    "            max_curr  =max(max_curr,nums[i])\n",
    "            if nums[i]<max_l:\n",
    "                max_l ,curr_pos = max_curr,i\n",
    "        return curr_pos+1\n",
    "\n",
    "nums = [1,1,1,0,6,12]\n",
    "s =Solution()\n",
    "s.partitionDisjoint(nums)\n"
   ],
   "metadata": {
    "collapsed": false,
    "pycharm": {
     "name": "#%%\n"
    }
   }
  },
  {
   "cell_type": "markdown",
   "source": [
    "## 934.最短的桥"
   ],
   "metadata": {
    "collapsed": false,
    "pycharm": {
     "name": "#%% md\n"
    }
   }
  },
  {
   "cell_type": "code",
   "execution_count": 1,
   "outputs": [
    {
     "ename": "NameError",
     "evalue": "name 'List' is not defined",
     "output_type": "error",
     "traceback": [
      "\u001B[1;31m---------------------------------------------------------------------------\u001B[0m",
      "\u001B[1;31mNameError\u001B[0m                                 Traceback (most recent call last)",
      "\u001B[1;32m<ipython-input-1-9d3ad893ffcd>\u001B[0m in \u001B[0;36m<module>\u001B[1;34m\u001B[0m\n\u001B[1;32m----> 1\u001B[1;33m \u001B[1;32mclass\u001B[0m \u001B[0mSolution\u001B[0m\u001B[1;33m:\u001B[0m\u001B[1;33m\u001B[0m\u001B[1;33m\u001B[0m\u001B[0m\n\u001B[0m\u001B[0;32m      2\u001B[0m     \u001B[1;32mdef\u001B[0m \u001B[0mshortestBridge\u001B[0m\u001B[1;33m(\u001B[0m\u001B[0mself\u001B[0m\u001B[1;33m,\u001B[0m \u001B[0mgrid\u001B[0m\u001B[1;33m:\u001B[0m \u001B[0mList\u001B[0m\u001B[1;33m[\u001B[0m\u001B[0mList\u001B[0m\u001B[1;33m[\u001B[0m\u001B[0mint\u001B[0m\u001B[1;33m]\u001B[0m\u001B[1;33m]\u001B[0m\u001B[1;33m)\u001B[0m \u001B[1;33m->\u001B[0m \u001B[0mint\u001B[0m\u001B[1;33m:\u001B[0m\u001B[1;33m\u001B[0m\u001B[1;33m\u001B[0m\u001B[0m\n\u001B[0;32m      3\u001B[0m         \u001B[0mn\u001B[0m \u001B[1;33m=\u001B[0m \u001B[0mlen\u001B[0m\u001B[1;33m(\u001B[0m\u001B[0mgrid\u001B[0m\u001B[1;33m)\u001B[0m\u001B[1;33m\u001B[0m\u001B[1;33m\u001B[0m\u001B[0m\n\u001B[0;32m      4\u001B[0m         \u001B[1;32mfor\u001B[0m \u001B[0mi\u001B[0m\u001B[1;33m,\u001B[0m \u001B[0mrow\u001B[0m \u001B[1;32min\u001B[0m \u001B[0menumerate\u001B[0m\u001B[1;33m(\u001B[0m\u001B[0mgrid\u001B[0m\u001B[1;33m)\u001B[0m\u001B[1;33m:\u001B[0m\u001B[1;33m\u001B[0m\u001B[1;33m\u001B[0m\u001B[0m\n\u001B[0;32m      5\u001B[0m             \u001B[1;32mfor\u001B[0m \u001B[0mj\u001B[0m\u001B[1;33m,\u001B[0m \u001B[0mv\u001B[0m \u001B[1;32min\u001B[0m \u001B[0menumerate\u001B[0m\u001B[1;33m(\u001B[0m\u001B[0mrow\u001B[0m\u001B[1;33m)\u001B[0m\u001B[1;33m:\u001B[0m\u001B[1;33m\u001B[0m\u001B[1;33m\u001B[0m\u001B[0m\n",
      "\u001B[1;32m<ipython-input-1-9d3ad893ffcd>\u001B[0m in \u001B[0;36mSolution\u001B[1;34m()\u001B[0m\n\u001B[0;32m      1\u001B[0m \u001B[1;32mclass\u001B[0m \u001B[0mSolution\u001B[0m\u001B[1;33m:\u001B[0m\u001B[1;33m\u001B[0m\u001B[1;33m\u001B[0m\u001B[0m\n\u001B[1;32m----> 2\u001B[1;33m     \u001B[1;32mdef\u001B[0m \u001B[0mshortestBridge\u001B[0m\u001B[1;33m(\u001B[0m\u001B[0mself\u001B[0m\u001B[1;33m,\u001B[0m \u001B[0mgrid\u001B[0m\u001B[1;33m:\u001B[0m \u001B[0mList\u001B[0m\u001B[1;33m[\u001B[0m\u001B[0mList\u001B[0m\u001B[1;33m[\u001B[0m\u001B[0mint\u001B[0m\u001B[1;33m]\u001B[0m\u001B[1;33m]\u001B[0m\u001B[1;33m)\u001B[0m \u001B[1;33m->\u001B[0m \u001B[0mint\u001B[0m\u001B[1;33m:\u001B[0m\u001B[1;33m\u001B[0m\u001B[1;33m\u001B[0m\u001B[0m\n\u001B[0m\u001B[0;32m      3\u001B[0m         \u001B[0mn\u001B[0m \u001B[1;33m=\u001B[0m \u001B[0mlen\u001B[0m\u001B[1;33m(\u001B[0m\u001B[0mgrid\u001B[0m\u001B[1;33m)\u001B[0m\u001B[1;33m\u001B[0m\u001B[1;33m\u001B[0m\u001B[0m\n\u001B[0;32m      4\u001B[0m         \u001B[1;32mfor\u001B[0m \u001B[0mi\u001B[0m\u001B[1;33m,\u001B[0m \u001B[0mrow\u001B[0m \u001B[1;32min\u001B[0m \u001B[0menumerate\u001B[0m\u001B[1;33m(\u001B[0m\u001B[0mgrid\u001B[0m\u001B[1;33m)\u001B[0m\u001B[1;33m:\u001B[0m\u001B[1;33m\u001B[0m\u001B[1;33m\u001B[0m\u001B[0m\n\u001B[0;32m      5\u001B[0m             \u001B[1;32mfor\u001B[0m \u001B[0mj\u001B[0m\u001B[1;33m,\u001B[0m \u001B[0mv\u001B[0m \u001B[1;32min\u001B[0m \u001B[0menumerate\u001B[0m\u001B[1;33m(\u001B[0m\u001B[0mrow\u001B[0m\u001B[1;33m)\u001B[0m\u001B[1;33m:\u001B[0m\u001B[1;33m\u001B[0m\u001B[1;33m\u001B[0m\u001B[0m\n",
      "\u001B[1;31mNameError\u001B[0m: name 'List' is not defined"
     ]
    }
   ],
   "source": [
    "from typing import List\n",
    "class Solution:\n",
    "    def shortestBridge(self, grid: List[List[int]]) -> int:\n",
    "        n = len(grid)\n",
    "        for i, row in enumerate(grid):\n",
    "            for j, v in enumerate(row):\n",
    "                if v != 1:\n",
    "                    continue\n",
    "                q = []\n",
    "                def dfs(x: int, y: int) -> None:\n",
    "                    grid[x][y] = -1\n",
    "                    q.append((x, y))\n",
    "                    for nx, ny in (x + 1, y), (x - 1, y), (x, y + 1), (x, y - 1):\n",
    "                        if 0 <= nx < n and 0 <= ny < n and grid[nx][ny] == 1:\n",
    "                            dfs(nx, ny)\n",
    "                dfs(i, j)\n",
    "\n",
    "                step = 0\n",
    "                while True:\n",
    "                    tmp = q\n",
    "                    q = []\n",
    "                    for x, y in tmp:\n",
    "                        for nx, ny in (x + 1, y), (x - 1, y), (x, y + 1), (x, y - 1):\n",
    "                            if 0 <= nx < n and 0 <= ny < n:\n",
    "                                if grid[nx][ny] == 1:\n",
    "                                    return step\n",
    "                                if grid[nx][ny] == 0:\n",
    "                                    grid[nx][ny] = -1\n",
    "                                    q.append((nx, ny))\n",
    "                    step += 1\n",
    "if __name__ == '__name__':\n",
    "    grid = [[1, 1, 1, 1, 1],\n",
    "        [1, 0, 0, 0, 1],\n",
    "        [1, 0, 1, 0, 1],\n",
    "        [1, 0, 0, 0, 1],\n",
    "        [1, 1, 1, 1, 1]]\n",
    "    s= Solution()\n",
    "    s.shortestBridge(grid)\n",
    "\n"
   ],
   "metadata": {
    "collapsed": false,
    "pycharm": {
     "name": "#%%\n"
    }
   }
  },
  {
   "cell_type": "markdown",
   "source": [
    "### DFS + BFS\n",
    "\n",
    "题目求解的是最小翻转次数，使得两个岛屿相连，实际上等价于求解两个岛屿之间的最短距离。\n",
    "\n",
    "因此，我们可以先通过 DFSDFS 将其中一个岛屿的所有点找出来，放到一个队列 qq 中。然后通过 BFSBFS 一层层向外扩展，直至碰到另一个岛屿，此时将当前扩展的层数作为答案返回即可。\n",
    "\n",
    "在 DFSDFS 和 BFSBFS 搜索的过程中，我们直接将已经访问过的点标记为 22，这样就不会重复访问。\n",
    "\n",
    "时间复杂度 O(n^2)O(n\n",
    "2\n",
    " )，空间复杂度 O(n^2)O(n\n",
    "2\n",
    " )。其中 nn 为矩阵的行数或列数。\n",
    "\n",
    "作者：lcbin\n",
    "链接：https://leetcode.cn/problems/shortest-bridge/solution/by-lcbin-j4i6/\n",
    "来源：力扣（LeetCode）\n",
    "著作权归作者所有。商业转载请联系作者获得授权，非商业转载请注明出处。"
   ],
   "metadata": {
    "collapsed": false,
    "pycharm": {
     "name": "#%% md\n"
    }
   }
  },
  {
   "cell_type": "code",
   "execution_count": null,
   "outputs": [],
   "source": [
    "class Solution:\n",
    "    def shortestBridge(self, grid: List[List[int]]) -> int:\n",
    "        def dfs(i, j):\n",
    "            q.append((i, j))\n",
    "            grid[i][j] = 2\n",
    "            for a, b in pairwise(dirs):\n",
    "                x, y = i + a, j + b\n",
    "                if 0 <= x < n and 0 <= y < n and grid[x][y] == 1:\n",
    "                    dfs(x, y)\n",
    "\n",
    "        n = len(grid)\n",
    "        dirs = (-1, 0, 1, 0, -1)\n",
    "        q = deque()\n",
    "        i, j = next((i, j) for i in range(n) for j in range(n) if grid[i][j])\n",
    "        dfs(i, j)\n",
    "        ans = 0\n",
    "        while 1:\n",
    "            for _ in range(len(q)):\n",
    "                i, j = q.popleft()\n",
    "                for a, b in pairwise(dirs):\n",
    "                    x, y = i + a, j + b\n",
    "                    if 0 <= x < n and 0 <= y < n:\n",
    "                        if grid[x][y] == 1:\n",
    "                            return ans\n",
    "                        if grid[x][y] == 0:\n",
    "                            grid[x][y] = 2\n",
    "                            q.append((x, y))\n",
    "            ans += 1\n",
    "\n"
   ],
   "metadata": {
    "collapsed": false,
    "pycharm": {
     "name": "#%%\n"
    }
   }
  },
  {
   "cell_type": "code",
   "execution_count": 11,
   "outputs": [
    {
     "ename": "AttributeError",
     "evalue": "'NoneType' object has no attribute 'f_code'",
     "output_type": "error",
     "traceback": [
      "\u001B[1;31m---------------------------------------------------------------------------\u001B[0m",
      "\u001B[1;31mAttributeError\u001B[0m                            Traceback (most recent call last)",
      "\u001B[1;32m<ipython-input-11-7e73b304f6ff>\u001B[0m in \u001B[0;36m<module>\u001B[1;34m\u001B[0m\n\u001B[0;32m      1\u001B[0m \u001B[1;32mfrom\u001B[0m \u001B[0mtyping\u001B[0m \u001B[1;32mimport\u001B[0m \u001B[0mList\u001B[0m\u001B[1;33m\u001B[0m\u001B[1;33m\u001B[0m\u001B[0m\n\u001B[1;32m----> 2\u001B[1;33m \u001B[1;32mclass\u001B[0m \u001B[0mSolution\u001B[0m\u001B[1;33m:\u001B[0m\u001B[1;33m\u001B[0m\u001B[1;33m\u001B[0m\u001B[0m\n\u001B[0m\u001B[0;32m      3\u001B[0m     \u001B[1;32mdef\u001B[0m \u001B[0msumSubarrayMins\u001B[0m\u001B[1;33m(\u001B[0m\u001B[0mself\u001B[0m\u001B[1;33m,\u001B[0m \u001B[0marr\u001B[0m\u001B[1;33m:\u001B[0m \u001B[0mList\u001B[0m\u001B[1;33m[\u001B[0m\u001B[0mint\u001B[0m\u001B[1;33m]\u001B[0m\u001B[1;33m)\u001B[0m \u001B[1;33m->\u001B[0m \u001B[0mint\u001B[0m\u001B[1;33m:\u001B[0m\u001B[1;33m\u001B[0m\u001B[1;33m\u001B[0m\u001B[0m\n\u001B[0;32m      4\u001B[0m         \u001B[0mn\u001B[0m\u001B[1;33m=\u001B[0m\u001B[0mlen\u001B[0m\u001B[1;33m(\u001B[0m\u001B[0marr\u001B[0m\u001B[1;33m)\u001B[0m\u001B[1;33m\u001B[0m\u001B[1;33m\u001B[0m\u001B[0m\n\u001B[0;32m      5\u001B[0m         \u001B[0ms\u001B[0m\u001B[1;33m=\u001B[0m\u001B[1;36m0\u001B[0m\u001B[1;33m\u001B[0m\u001B[1;33m\u001B[0m\u001B[0m\n",
      "\u001B[1;32m_pydevd_bundle\\pydevd_cython_win32_38_64.pyx\u001B[0m in \u001B[0;36m_pydevd_bundle.pydevd_cython_win32_38_64.SafeCallWrapper.__call__\u001B[1;34m()\u001B[0m\n",
      "\u001B[1;32m_pydevd_bundle\\pydevd_cython_win32_38_64.pyx\u001B[0m in \u001B[0;36m_pydevd_bundle.pydevd_cython_win32_38_64.PyDBFrame.trace_dispatch\u001B[1;34m()\u001B[0m\n",
      "\u001B[1;32m_pydevd_bundle\\pydevd_cython_win32_38_64.pyx\u001B[0m in \u001B[0;36m_pydevd_bundle.pydevd_cython_win32_38_64.PyDBFrame.trace_dispatch\u001B[1;34m()\u001B[0m\n",
      "\u001B[1;32mD:\\ruanjian\\PyCharm 2022.1.1\\plugins\\python\\helpers-pro\\jupyter_debug\\pydev_jupyter_plugin.py\u001B[0m in \u001B[0;36mcan_not_skip\u001B[1;34m(plugin, pydb, pydb_frame, frame, info)\u001B[0m\n\u001B[0;32m     90\u001B[0m \u001B[1;32mdef\u001B[0m \u001B[0mcan_not_skip\u001B[0m\u001B[1;33m(\u001B[0m\u001B[0mplugin\u001B[0m\u001B[1;33m,\u001B[0m \u001B[0mpydb\u001B[0m\u001B[1;33m,\u001B[0m \u001B[0mpydb_frame\u001B[0m\u001B[1;33m,\u001B[0m \u001B[0mframe\u001B[0m\u001B[1;33m,\u001B[0m \u001B[0minfo\u001B[0m\u001B[1;33m)\u001B[0m\u001B[1;33m:\u001B[0m\u001B[1;33m\u001B[0m\u001B[1;33m\u001B[0m\u001B[0m\n\u001B[0;32m     91\u001B[0m     \u001B[0mstep_cmd\u001B[0m \u001B[1;33m=\u001B[0m \u001B[0minfo\u001B[0m\u001B[1;33m.\u001B[0m\u001B[0mpydev_step_cmd\u001B[0m\u001B[1;33m\u001B[0m\u001B[1;33m\u001B[0m\u001B[0m\n\u001B[1;32m---> 92\u001B[1;33m     \u001B[1;32mif\u001B[0m \u001B[0mstep_cmd\u001B[0m \u001B[1;33m==\u001B[0m \u001B[1;36m108\u001B[0m \u001B[1;32mand\u001B[0m \u001B[0m_is_equals\u001B[0m\u001B[1;33m(\u001B[0m\u001B[0mframe\u001B[0m\u001B[1;33m,\u001B[0m \u001B[0m_get_stop_frame\u001B[0m\u001B[1;33m(\u001B[0m\u001B[0minfo\u001B[0m\u001B[1;33m)\u001B[0m\u001B[1;33m)\u001B[0m\u001B[1;33m:\u001B[0m\u001B[1;33m\u001B[0m\u001B[1;33m\u001B[0m\u001B[0m\n\u001B[0m\u001B[0;32m     93\u001B[0m         \u001B[1;32mreturn\u001B[0m \u001B[1;32mTrue\u001B[0m\u001B[1;33m\u001B[0m\u001B[1;33m\u001B[0m\u001B[0m\n\u001B[0;32m     94\u001B[0m     \u001B[1;32mif\u001B[0m \u001B[0mpydb\u001B[0m\u001B[1;33m.\u001B[0m\u001B[0mjupyter_breakpoints\u001B[0m\u001B[1;33m:\u001B[0m\u001B[1;33m\u001B[0m\u001B[1;33m\u001B[0m\u001B[0m\n",
      "\u001B[1;32mD:\\ruanjian\\PyCharm 2022.1.1\\plugins\\python\\helpers-pro\\jupyter_debug\\pydev_jupyter_plugin.py\u001B[0m in \u001B[0;36m_is_equals\u001B[1;34m(frame, other_frame)\u001B[0m\n\u001B[0;32m    124\u001B[0m     \u001B[1;31m# in cell separately. At the same time, the frame filename is unique and stays\u001B[0m\u001B[1;33m\u001B[0m\u001B[1;33m\u001B[0m\u001B[1;33m\u001B[0m\u001B[0m\n\u001B[0;32m    125\u001B[0m     \u001B[1;31m# the same within a cell.\u001B[0m\u001B[1;33m\u001B[0m\u001B[1;33m\u001B[0m\u001B[1;33m\u001B[0m\u001B[0m\n\u001B[1;32m--> 126\u001B[1;33m     \u001B[1;32mreturn\u001B[0m \u001B[0mframe\u001B[0m\u001B[1;33m.\u001B[0m\u001B[0mf_code\u001B[0m\u001B[1;33m.\u001B[0m\u001B[0mco_filename\u001B[0m \u001B[1;33m==\u001B[0m \u001B[0mother_frame\u001B[0m\u001B[1;33m.\u001B[0m\u001B[0mf_code\u001B[0m\u001B[1;33m.\u001B[0m\u001B[0mco_filename\u001B[0m\u001B[0;31m \u001B[0m\u001B[0;31m\\\u001B[0m\u001B[1;33m\u001B[0m\u001B[1;33m\u001B[0m\u001B[0m\n\u001B[0m\u001B[0;32m    127\u001B[0m            and ((frame.f_code.co_name.startswith('<cell line:')\n\u001B[0;32m    128\u001B[0m                  and other_frame.f_code.co_name.startswith('<cell line:'))\n",
      "\u001B[1;31mAttributeError\u001B[0m: 'NoneType' object has no attribute 'f_code'"
     ]
    }
   ],
   "source": [
    "from typing import List\n",
    "class Solution:\n",
    "    def sumSubarrayMins(self, arr: List[int]) -> int:\n",
    "        n=len(arr)\n",
    "        s=0\n",
    "        for i in range(n):\n",
    "            for j in range(n):\n",
    "                if i==j:\n",
    "                    s+=arr[i]\n",
    "                else:\n",
    "                    s+=min(arr[i:j])\n",
    "        return s\n",
    "if __name__ == '__main__':\n",
    "    arr = [3,1,2,4]\n",
    "\n",
    "    s= Solution()\n",
    "    a=s.sumSubarrayMins(arr)\n",
    "    print(a)\n"
   ],
   "metadata": {
    "collapsed": false,
    "pycharm": {
     "name": "#%%\n"
    }
   }
  }
 ],
 "metadata": {
  "kernelspec": {
   "display_name": "Python 3.8.8 ('base')",
   "language": "python",
   "name": "python3"
  },
  "language_info": {
   "codemirror_mode": {
    "name": "ipython",
    "version": 3
   },
   "file_extension": ".py",
   "mimetype": "text/x-python",
   "name": "python",
   "nbconvert_exporter": "python",
   "pygments_lexer": "ipython3",
   "version": "3.8.8"
  },
  "orig_nbformat": 4,
  "vscode": {
   "interpreter": {
    "hash": "e12ddd010df99af3d2a0699e046c9713c7b64c28af730a366b6574ca5c24de30"
   }
  }
 },
 "nbformat": 4,
 "nbformat_minor": 2
}