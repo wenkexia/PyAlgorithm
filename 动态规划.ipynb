{
 "cells": [
  {
   "cell_type": "markdown",
   "source": [
    "数组的每个下标作为一个阶梯，第 i 个阶梯对应着一个非负数的体力花费值 cost[i]（下标从 0 开始）。\n",
    "\n",
    "每当你爬上一个阶梯你都要花费对应的体力值，一旦支付了相应的体力值，你就可以选择向上爬一个阶梯或者爬两个阶梯。\n",
    "\n",
    "请你找出达到楼层顶部的最低花费。在开始时，你可以选择从下标为 0 或 1 的元素作为初始阶梯。"
   ],
   "metadata": {
    "collapsed": false,
    "pycharm": {
     "name": "#%% md\n"
    }
   }
  },
  {
   "cell_type": "code",
   "execution_count": null,
   "metadata": {
    "collapsed": true,
    "pycharm": {
     "name": "#%%\n"
    }
   },
   "outputs": [],
   "source": [
    "class Solution:\n",
    "    def minCostClimbingStairs(self, cost: List[int]) -> int:\n",
    "        dp = [0] * (len(cost))\n",
    "        dp[0] = cost[0]\n",
    "        dp[1] = cost[1]\n",
    "        for i in range(2, len(cost)):\n",
    "            dp[i] = min(dp[i - 1], dp[i - 2]) + cost[i]\n",
    "        return min(dp[len(cost) - 1], dp[len(cost) - 2])"
   ]
  },
  {
   "cell_type": "markdown",
   "source": [
    "## 分割等和子集\n",
    "题目难易：中等\n",
    "\n",
    "给定一个只包含正整数的非空数组。是否可以将这个数组分割成两个子集，使得两个子集的元素和相等。\n",
    "\n",
    "注意: 每个数组中的元素不会超过 100 数组的大小不会超过 200\n",
    "\n",
    "示例 1: 输入: [1, 5, 11, 5] 输出: true 解释: 数组可以分割成 [1, 5, 5] 和 [11].\n",
    "\n",
    "示例 2: 输入: [1, 2, 3, 5] 输出: false 解释: 数组不能分割成两个元素和相等的子集.\n",
    "\n",
    "提示：\n",
    "\n",
    "1 <= nums.length <= 200\n",
    "1 <= nums[i] <= 100\n",
    "#思路\n",
    "\n",
    "背包问题，大家都知道，有N件物品和一个最多能背重量为W 的背包。第i件物品的重量是weight[i]，得到的价值是value[i] 。每件物品只能用一次，求解将哪些物品装入背包里物品价值总和最大。\n",
    "\n",
    "背包问题有多种背包方式，常见的有：01背包、完全背包、多重背包、分组背包和混合背包等等。\n",
    "\n",
    "要注意题目描述中商品是不是可以重复放入。\n",
    "\n",
    "即一个商品如果可以重复多次放入是完全背包，而只能放入一次是01背包，写法还是不一样的。\n",
    "\n",
    "要明确本题中我们要使用的是01背包，因为元素我们只能用一次。\n",
    "\n",
    "回归主题：首先，本题要求集合里能否出现总和为 sum / 2 的子集。\n",
    "\n",
    "那么来一一对应一下本题，看看背包问题如果来解决。\n",
    "\n",
    "只有确定了如下四点，才能把01背包问题套到本题上来。\n",
    "\n",
    "背包的体积为sum / 2\n",
    "背包要放入的商品（集合里的元素）重量为 元素的数值，价值也为元素的数值\n",
    "背包如果正好装满，说明找到了总和为 sum / 2 的子集。\n",
    "背包中每一个元素是不可重复放入。\n",
    "以上分析完，我们就可以套用01背包，来解决这个问题了。\n",
    "\n",
    "动规五部曲分析如下：\n",
    "\n",
    "确定dp数组以及下标的含义\n",
    "01背包中，dp[j] 表示： 容量为j的背包，所背的物品价值可以最大为dp[j]。\n",
    "\n",
    "套到本题，dp[j]表示 背包总容量是j，最大可以凑成j的子集总和为dp[j]。\n",
    "\n",
    "确定递推公式\n",
    "01背包的递推公式为：dp[j] = max(dp[j], dp[j - weight[i]] + value[i]);\n",
    "\n",
    "本题，相当于背包里放入数值，那么物品i的重量是nums[i]，其价值也是nums[i]。\n",
    "\n",
    "所以递推公式：dp[j] = max(dp[j], dp[j - nums[i]] + nums[i]);\n",
    "\n",
    "dp数组如何初始化\n",
    "在01背包，一维dp如何初始化，已经讲过，\n",
    "\n",
    "从dp[j]的定义来看，首先dp[0]一定是0。\n",
    "\n",
    "如果如果题目给的价值都是正整数那么非0下标都初始化为0就可以了，如果题目给的价值有负数，那么非0下标就要初始化为负无穷。\n",
    "\n",
    "这样才能让dp数组在递归公式的过程中取的最大的价值，而不是被初始值覆盖了。"
   ],
   "metadata": {
    "collapsed": false,
    "pycharm": {
     "name": "#%% md\n"
    }
   }
  },
  {
   "cell_type": "code",
   "execution_count": null,
   "outputs": [],
   "source": [
    "class Solution:\n",
    "    def canPartition(self, nums: List[int]) -> bool:\n",
    "        target = sum(nums)\n",
    "        if target % 2 == 1: return False\n",
    "        target //= 2\n",
    "        dp = [0] * 10001\n",
    "        for i in range(len(nums)):\n",
    "            for j in range(target, nums[i] - 1, -1):\n",
    "                dp[j] = max(dp[j], dp[j - nums[i]] + nums[i])\n",
    "        return target == dp[target]"
   ],
   "metadata": {
    "collapsed": false,
    "pycharm": {
     "name": "#%%\n"
    }
   }
  }
 ],
 "metadata": {
  "kernelspec": {
   "display_name": "Python 3",
   "language": "python",
   "name": "python3"
  },
  "language_info": {
   "codemirror_mode": {
    "name": "ipython",
    "version": 2
   },
   "file_extension": ".py",
   "mimetype": "text/x-python",
   "name": "python",
   "nbconvert_exporter": "python",
   "pygments_lexer": "ipython2",
   "version": "2.7.6"
  }
 },
 "nbformat": 4,
 "nbformat_minor": 0
}