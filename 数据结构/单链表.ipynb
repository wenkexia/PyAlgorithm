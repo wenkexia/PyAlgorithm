{
 "cells": [
  {
   "cell_type": "code",
   "execution_count": 3,
   "metadata": {
    "pycharm": {
     "name": "#%%\n"
    }
   },
   "outputs": [],
   "source": [
    "#定义一个链表\n",
    "class Node:\n",
    "    def __init__(self,data = None, next = None):\n",
    "        self.data = data\n",
    "        self.next = next"
   ]
  },
  {
   "cell_type": "code",
   "execution_count": null,
   "metadata": {
    "collapsed": false,
    "pycharm": {
     "name": "#%%\n"
    }
   },
   "outputs": [],
   "source": [
    "#创建了三个独立的节点\n",
    "node1 = Node(1)\n",
    "node2 = Node(2)\n",
    "node3 = Node(3)\n",
    "\n"
   ]
  },
  {
   "cell_type": "code",
   "execution_count": null,
   "metadata": {
    "collapsed": false,
    "pycharm": {
     "name": "#%%\n"
    }
   },
   "outputs": [],
   "source": [
    "node1.next = node2\n",
    "node2.next = node3"
   ]
  },
  {
   "cell_type": "code",
   "execution_count": null,
   "metadata": {
    "collapsed": false,
    "pycharm": {
     "name": "#%%\n"
    }
   },
   "outputs": [],
   "source": [
    "head = Node(3)\n",
    "node2 = Node(2)\n",
    "node3 = Node(0)\n",
    "node4 = Node(-4)\n",
    "\n",
    "head.next = node2\n",
    "node2.next = node3\n",
    "node3.next = node4\n",
    "\n",
    "def detectCycle( head):\n",
    "    fast, slow = head, head\n",
    "    while True:\n",
    "        if not (fast and fast.next): return\n",
    "        fast, slow = fast.next.next, slow.next\n",
    "        if fast == slow: break\n",
    "    #重新指向头结点\n",
    "    fast = head\n",
    "    #快慢指针同步前进，相交点就是环起点\n",
    "    while fast != slow:\n",
    "        fast, slow = fast.next, slow.next\n",
    "    return fast\n",
    "\n",
    "detectCycle( head)"
   ]
  },
  {
   "cell_type": "code",
   "execution_count": 11,
   "metadata": {},
   "outputs": [
    {
     "data": {
      "text/plain": [
       "[[0, 0, 0, 0], [0, 0, 0, 0], [0, 0, 0, 0], [0, 0, 0, 0]]"
      ]
     },
     "execution_count": 11,
     "metadata": {},
     "output_type": "execute_result"
    }
   ],
   "source": [
    "arr = []\n",
    "n = 4\n",
    "# for  i in range(n):\n",
    "#     for j in range(n):\n",
    "#          arr[i][j]=0\n",
    "         \n",
    "dp = [[0] * (n ) for _ in range(n)]\n",
    "dp"
   ]
  }
 ],
 "metadata": {
  "kernelspec": {
   "display_name": "Python 3.9.13 ('base')",
   "language": "python",
   "name": "python3"
  },
  "language_info": {
   "codemirror_mode": {
    "name": "ipython",
    "version": 3
   },
   "file_extension": ".py",
   "mimetype": "text/x-python",
   "name": "python",
   "nbconvert_exporter": "python",
   "pygments_lexer": "ipython3",
   "version": "3.9.13"
  },
  "orig_nbformat": 4,
  "vscode": {
   "interpreter": {
    "hash": "e12ddd010df99af3d2a0699e046c9713c7b64c28af730a366b6574ca5c24de30"
   }
  }
 },
 "nbformat": 4,
 "nbformat_minor": 2
}
